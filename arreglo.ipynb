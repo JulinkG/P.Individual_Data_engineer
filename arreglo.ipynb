{
 "cells": [
  {
   "cell_type": "code",
   "execution_count": 1,
   "metadata": {},
   "outputs": [],
   "source": [
    "import pandas as pd"
   ]
  },
  {
   "cell_type": "code",
   "execution_count": 3,
   "metadata": {},
   "outputs": [],
   "source": [
    "data1=pd.read_csv('Datasets/amazon_prime_titles-score.csv')\n",
    "data2=pd.read_csv('Datasets/disney_plus_titles-score.csv')\n",
    "data3=pd.read_csv('Datasets/hulu_titles-score (2).csv')\n",
    "data4=pd.read_csv('Datasets/netflix_titles-score.csv')\n"
   ]
  },
  {
   "cell_type": "code",
   "execution_count": 4,
   "metadata": {},
   "outputs": [],
   "source": [
    "datatotal = pd.concat([data1,data2,data3,data4],axis=0)"
   ]
  },
  {
   "cell_type": "code",
   "execution_count": 6,
   "metadata": {},
   "outputs": [],
   "source": [
    "datos_arreglo= datatotal['release_year']"
   ]
  },
  {
   "cell_type": "code",
   "execution_count": 8,
   "metadata": {},
   "outputs": [],
   "source": [
    "datos_arreglo.to_csv('datos_arreglo.csv',index=False)"
   ]
  }
 ],
 "metadata": {
  "kernelspec": {
   "display_name": "Python 3",
   "language": "python",
   "name": "python3"
  },
  "language_info": {
   "codemirror_mode": {
    "name": "ipython",
    "version": 3
   },
   "file_extension": ".py",
   "mimetype": "text/x-python",
   "name": "python",
   "nbconvert_exporter": "python",
   "pygments_lexer": "ipython3",
   "version": "3.10.6"
  },
  "orig_nbformat": 4,
  "vscode": {
   "interpreter": {
    "hash": "60d3980bdb4b8bfa4463108bd4f96073bf07ff5f3d733b554b045d128be03d71"
   }
  }
 },
 "nbformat": 4,
 "nbformat_minor": 2
}
