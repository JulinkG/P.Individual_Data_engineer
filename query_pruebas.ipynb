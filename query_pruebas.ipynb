{
 "cells": [
  {
   "cell_type": "code",
   "execution_count": 8,
   "metadata": {},
   "outputs": [],
   "source": [
    "import pandas as pd"
   ]
  },
  {
   "cell_type": "code",
   "execution_count": 5,
   "metadata": {},
   "outputs": [],
   "source": [
    "df = pd.read_csv('API/datos_completos.csv')"
   ]
  },
  {
   "cell_type": "code",
   "execution_count": 42,
   "metadata": {},
   "outputs": [],
   "source": [
    "def ger_word_count(platform,palabra):\n",
    "    count = []\n",
    "    agrupado = df[df['platform']==platform]\n",
    "    for i in agrupado['title']:\n",
    "        if palabra in i:\n",
    "            count.append(i)\n",
    "\n",
    "    return print((platform,len(count)))"
   ]
  },
  {
   "cell_type": "code",
   "execution_count": 47,
   "metadata": {},
   "outputs": [
    {
     "name": "stdout",
     "output_type": "stream",
     "text": [
      "('netflix', 196)\n"
     ]
    }
   ],
   "source": [
    "ger_word_count('netflix','love')"
   ]
  },
  {
   "cell_type": "code",
   "execution_count": 48,
   "metadata": {},
   "outputs": [],
   "source": [
    "def get_score_count(platform,score,year):\n",
    "    peliculas = df[df['type']=='movie']\n",
    "    agrupado = peliculas[peliculas['platform']==platform]\n",
    "    agrupado2 = agrupado[agrupado['release_year']==year]\n",
    "    count = agrupado2[agrupado2['score']>score]\n",
    "\n",
    "    return print(platform,len(count))"
   ]
  },
  {
   "cell_type": "code",
   "execution_count": 49,
   "metadata": {},
   "outputs": [
    {
     "name": "stdout",
     "output_type": "stream",
     "text": [
      "netflix 20\n"
     ]
    }
   ],
   "source": [
    "get_score_count('netflix',85,2010)"
   ]
  },
  {
   "cell_type": "code",
   "execution_count": 6,
   "metadata": {},
   "outputs": [],
   "source": [
    "def get_second_score(platform):\n",
    "    peliculas = df[df['type']=='movie']\n",
    "    sort = peliculas[peliculas['platform']==platform]\n",
    "    sorteado=sort.sort_values(by=['score','title'], ascending=[False,True])\n",
    "    resultado = sorteado.iloc[1]\n",
    "\n",
    "    return (print(resultado['title'],resultado['score']))\n",
    "    \n"
   ]
  },
  {
   "cell_type": "code",
   "execution_count": 7,
   "metadata": {},
   "outputs": [
    {
     "name": "stdout",
     "output_type": "stream",
     "text": [
      "abilene town 100\n"
     ]
    }
   ],
   "source": [
    "get_second_score('amazon')\n"
   ]
  },
  {
   "cell_type": "code",
   "execution_count": 75,
   "metadata": {},
   "outputs": [],
   "source": [
    "def get_longest(platform,duration_type,year):\n",
    "    sort1 = df[df['platform']==platform] \n",
    "    sort2 = sort1[sort1['duration_type']==duration_type]\n",
    "    sort3 = sort2[sort2['release_year']==year]\n",
    "    sorteado=sort3.sort_values(by='duration_int', ascending=False)\n",
    "    resultado = sorteado.iloc[0]\n",
    "    \n",
    "    return (print(resultado['title'],resultado['duration_int'],resultado['duration_type']))\n"
   ]
  },
  {
   "cell_type": "code",
   "execution_count": 76,
   "metadata": {},
   "outputs": [
    {
     "name": "stdout",
     "output_type": "stream",
     "text": [
      "sairat 173.0 min\n"
     ]
    }
   ],
   "source": [
    "get_longest('netflix','min',2016)"
   ]
  },
  {
   "cell_type": "code",
   "execution_count": 79,
   "metadata": {},
   "outputs": [],
   "source": [
    "def get_rating_count(rating):\n",
    "    count=[]\n",
    "    for i in df['rating']:\n",
    "        if i == rating:\n",
    "            count.append(i)\n",
    "\n",
    "    return print(rating,len(count))"
   ]
  },
  {
   "cell_type": "code",
   "execution_count": 80,
   "metadata": {},
   "outputs": [
    {
     "name": "stdout",
     "output_type": "stream",
     "text": [
      "18+ 1243\n"
     ]
    }
   ],
   "source": [
    "get_rating_count('18+')"
   ]
  }
 ],
 "metadata": {
  "kernelspec": {
   "display_name": "Python 3",
   "language": "python",
   "name": "python3"
  },
  "language_info": {
   "codemirror_mode": {
    "name": "ipython",
    "version": 3
   },
   "file_extension": ".py",
   "mimetype": "text/x-python",
   "name": "python",
   "nbconvert_exporter": "python",
   "pygments_lexer": "ipython3",
   "version": "3.10.6 (tags/v3.10.6:9c7b4bd, Aug  1 2022, 21:53:49) [MSC v.1932 64 bit (AMD64)]"
  },
  "orig_nbformat": 4,
  "vscode": {
   "interpreter": {
    "hash": "60d3980bdb4b8bfa4463108bd4f96073bf07ff5f3d733b554b045d128be03d71"
   }
  }
 },
 "nbformat": 4,
 "nbformat_minor": 2
}
